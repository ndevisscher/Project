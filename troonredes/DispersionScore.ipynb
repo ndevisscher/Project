{
 "cells": [
  {
   "cell_type": "markdown",
   "metadata": {},
   "source": [
    "# Dispersion scores\n",
    "\n",
    "### Idee/toepassing\n",
    "\n",
    "> Paraphrase detection van de speeches onderling ('wiens woorden worden het meest herhaald, en hebben dus de grootste impact?).\n",
    "\n",
    "### Implementatie\n",
    "* Neem de dispersie score uit de xquery file\n",
    "* Vang die in een mooie formule\n",
    "* Voeg \"kleuren\" (= spreker/partij) aan de tijdstippen toe, en breidt de formule daarmee uit.\n",
    "* Ga dan dispersie per woord berekenen en per spreker/partij.\n",
    "\n",
    "### Verdere toepassingen\n",
    "* Kleuren kunnen ook\n",
    "    * verschillende nieuwsmedia\n",
    "    * twitter accounts\n",
    "    * $\\ldots$\n",
    "    \n",
    "    \n",
    "#### Verder\n",
    "* NLTK <http://www.nltk.org/book/ch01.html#fig-inaugural>\n",
    "\n",
    "\n",
    "### Onze troonredes\n",
    "\n",
    "* Staan op <http://www.troonredes.nl/>\n",
    "* Dat is geinig! \n",
    "* Makkelijk op te halen met wget\n",
    "\n",
    "#### To do\n",
    "1. tekst eruit halen\n",
    "2. netjes chronologisch ordenen en indexeren\n",
    "3. Dispersie plot maken\n",
    "\n",
    "### Kerst toespraken\n",
    "* veel minder, 1980 +  1996-2014\n"
   ]
  },
  {
   "cell_type": "code",
   "execution_count": null,
   "metadata": {
    "collapsed": false
   },
   "outputs": [],
   "source": [
    "#! wget -r -np http://www.troonredes.nl/"
   ]
  },
  {
   "cell_type": "code",
   "execution_count": 2,
   "metadata": {
    "collapsed": false
   },
   "outputs": [
    {
     "name": "stdout",
     "output_type": "stream",
     "text": [
      "1980.htm                                          2008.htm\r\n",
      "1996.htm                                          2009.htm\r\n",
      "1997.htm                                          2010.htm\r\n",
      "1998.htm                                          2011.htm\r\n",
      "1999.htm                                          2012.htm\r\n",
      "2000.htm                                          2013.htm\r\n",
      "2001.htm                                          2014.htm\r\n",
      "2002.htm                                          aankondigingaftreden2013.htm\r\n",
      "2003.htm                                          \u001b[34mimages\u001b[m\u001b[m\r\n",
      "2004.htm                                          index.html\r\n",
      "2005.htm                                          interview-willem-alexander-maxima-17april2013.htm\r\n",
      "2006.htm                                          toespraak-koning-willem-alexander-30april2013.htm\r\n",
      "2007.htm                                          toespraak-koningin-29april2013.htm\r\n"
     ]
    }
   ],
   "source": [
    "#! wget -r -np http://www.kersttoespraak.nl/\n",
    "! ls www.kersttoespraak.nl/\n"
   ]
  },
  {
   "cell_type": "code",
   "execution_count": null,
   "metadata": {
    "collapsed": true
   },
   "outputs": [],
   "source": [
    "!tar -zcvf kersttoespraken.tar www.kersttoespraak.nl/\n",
    "! rm -r www.kersttoespraak.nl/"
   ]
  },
  {
   "cell_type": "code",
   "execution_count": 4,
   "metadata": {
    "collapsed": false
   },
   "outputs": [
    {
     "name": "stdout",
     "output_type": "stream",
     "text": [
      "total 6752\r\n",
      "-rw-r--r--  1 admin  staff   2.2K Sep 15 10:19 ComputeDispersion.xquery\r\n",
      "-rw-r--r--  1 admin  staff    12K Sep 17 14:29 DispersionScore.ipynb\r\n",
      "-rw-r--r--  1 admin  staff   982B Sep 17 14:23 Troonrede_Analyse.ipynb\r\n",
      "-rw-r--r--  1 admin  staff   225K Sep 17 14:29 kersttoespraken.tar\r\n",
      "-rw-r--r--  1 admin  staff   3.0M Sep 17 14:20 troonredes.tar\r\n"
     ]
    }
   ],
   "source": [
    "!ls -lh"
   ]
  },
  {
   "cell_type": "code",
   "execution_count": 6,
   "metadata": {
    "collapsed": false
   },
   "outputs": [
    {
     "name": "stdout",
     "output_type": "stream",
     "text": [
      "troonrede-15-september-1959\r\n",
      "troonrede-15-september-1964\r\n",
      "troonrede-15-september-1981\r\n",
      "troonrede-15-september-1987\r\n",
      "troonrede-16-september-1958\r\n",
      "troonrede-16-september-1980\r\n",
      "troonrede-16-september-1986\r\n",
      "troonrede-16-september-2003\r\n",
      "troonrede-16-september-2008\r\n",
      "troonrede-16-september-2014\r\n",
      "troonrede-17-september-1957\r\n",
      "troonrede-17-september-1963\r\n",
      "troonrede-17-september-1985\r\n",
      "troonrede-17-september-2002\r\n",
      "troonrede-18-september-1956\r\n",
      "troonrede-18-september-1962\r\n",
      "troonrede-18-september-1979\r\n",
      "troonrede-18-september-1984\r\n",
      "troonrede-18-september-2001\r\n",
      "troonrede-18-september-2007\r\n",
      "troonrede-19-september-1961\r\n",
      "troonrede-19-september-1967\r\n",
      "troonrede-19-september-1978\r\n",
      "troonrede-19-september-1989\r\n",
      "troonrede-19-september-2000\r\n",
      "troonrede-19-september-2006\r\n",
      "troonrede-20-september-1949-2\r\n",
      "troonrede-20-september-1955\r\n",
      "troonrede-20-september-1960\r\n",
      "troonrede-20-september-1966\r\n",
      "troonrede-20-september-1983\r\n",
      "troonrede-20-september-1988\r\n",
      "troonrede-20-september-2005\r\n",
      "troonrede-20-september-2011\r\n",
      "troonrede-21-september-1948-2\r\n",
      "troonrede-21-september-1954\r\n",
      "troonrede-21-september-1965\r\n",
      "troonrede-21-september-1976\r\n",
      "troonrede-21-september-1976-2\r\n",
      "troonrede-21-september-1982\r\n",
      "troonrede-21-september-2004\r\n",
      "troonrede-21-september-2010\r\n",
      "troonrede-23-juli-1946\r\n",
      "troonrede-23-juli-1946-2\r\n",
      "troonrede-van-13-februari-1849\r\n",
      "troonrede-van-13-september-1830\r\n",
      "troonrede-van-14-juli-1886\r\n",
      "troonrede-van-15-oktober-1821\r\n",
      "troonrede-van-15-oktober-1827\r\n",
      "troonrede-van-15-oktober-1832\r\n",
      "troonrede-van-15-oktober-1838\r\n",
      "troonrede-van-15-september-1873\r\n",
      "troonrede-van-15-september-1879\r\n",
      "troonrede-van-15-september-1891\r\n",
      "troonrede-van-15-september-1896\r\n",
      "troonrede-van-15-september-1925\r\n",
      "troonrede-van-15-september-1931\r\n",
      "troonrede-van-15-september-1936\r\n",
      "troonrede-van-15-september-2009\r\n",
      "troonrede-van-16-oktober-1820\r\n",
      "troonrede-van-16-oktober-1826\r\n",
      "troonrede-van-16-oktober-1843\r\n",
      "troonrede-van-16-oktober-1848\r\n",
      "troonrede-van-16-september-1872\r\n",
      "troonrede-van-16-september-1878\r\n",
      "troonrede-van-16-september-1930\r\n",
      "troonrede-van-17-november-1884\r\n",
      "troonrede-van-17-oktober-1825\r\n",
      "troonrede-van-17-oktober-1831\r\n",
      "troonrede-van-17-oktober-1836\r\n",
      "troonrede-van-17-oktober-1842\r\n",
      "troonrede-van-17-september-1877\r\n",
      "troonrede-van-17-september-1883\r\n",
      "troonrede-van-17-september-1895\r\n",
      "troonrede-van-17-september-1929\r\n",
      "troonrede-van-17-september-1935\r\n",
      "troonrede-van-17-september-2013\r\n",
      "troonrede-van-18-oktober-1824\r\n",
      "troonrede-van-18-oktober-1830\r\n",
      "troonrede-van-18-oktober-1841\r\n",
      "troonrede-van-18-oktober-1847\r\n",
      "troonrede-van-18-september-1871\r\n",
      "troonrede-van-18-september-1876\r\n",
      "troonrede-van-18-september-1882\r\n",
      "troonrede-van-18-september-1894\r\n",
      "troonrede-van-18-september-1900\r\n",
      "troonrede-van-18-september-1923\r\n",
      "troonrede-van-18-september-1923-2\r\n",
      "troonrede-van-18-september-1928\r\n",
      "troonrede-van-18-september-1934\r\n",
      "troonrede-van-18-september-2012\r\n",
      "troonrede-van-19-oktober-1818\r\n",
      "troonrede-van-19-oktober-1829\r\n",
      "troonrede-van-19-oktober-1835\r\n",
      "troonrede-van-19-oktober-1840\r\n",
      "troonrede-van-19-oktober-1846\r\n",
      "troonrede-van-19-september-1870\r\n",
      "troonrede-van-19-september-1887\r\n",
      "troonrede-van-19-september-1893\r\n",
      "troonrede-van-19-september-1899\r\n",
      "troonrede-van-19-september-1933\r\n",
      "troonrede-van-19-september-1939\r\n",
      "troonrede-van-20-oktober-1823\r\n",
      "troonrede-van-20-oktober-1828\r\n",
      "troonrede-van-20-oktober-1834\r\n",
      "troonrede-van-20-oktober-1845\r\n",
      "troonrede-van-20-september-1875\r\n",
      "troonrede-van-20-september-1880\r\n",
      "troonrede-van-20-september-1892\r\n",
      "troonrede-van-20-september-1898\r\n",
      "troonrede-van-20-september-1904\r\n",
      "troonrede-van-20-september-1927\r\n",
      "troonrede-van-20-september-1932\r\n",
      "troonrede-van-20-september-1938\r\n",
      "troonrede-van-21-oktober-1822\r\n",
      "troonrede-van-21-oktober-1833\r\n",
      "troonrede-van-21-oktober-1839\r\n",
      "troonrede-van-21-oktober-1844\r\n",
      "troonrede-van-21-september-1874\r\n",
      "troonrede-van-21-september-1885\r\n",
      "troonrede-van-21-september-1897\r\n",
      "troonrede-van-21-september-1926\r\n",
      "troonrede-van-21-september-1937\r\n",
      "troonrede-van-4-augustus-1840\r\n",
      "troonredes\r\n"
     ]
    }
   ],
   "source": [
    "!ls www.troonredes.nl |grep troonrede*"
   ]
  },
  {
   "cell_type": "code",
   "execution_count": 120,
   "metadata": {
    "collapsed": false
   },
   "outputs": [],
   "source": [
    "import numpy as np\n",
    "import math\n",
    "time = np.arange(1024)\n",
    "\n",
    "def tryout(time,):\n",
    "    for i in range(int(math.log(len(time),2))+1):\n",
    "        print i,(time/2**i)[:16], (time/2**i)[len(time)-16:]\n",
    "        \n",
    "# test\n",
    "# tryout(time)\n",
    "\n",
    "\n",
    "def dispersion_score_print (hits,timelength):\n",
    "    cumscore=0\n",
    "    for i in range(int(math.log(timelength,2))):\n",
    "        i_th_chopped_time= hits/2**i\n",
    "        num_hits= len(set(i_th_chopped_time))\n",
    "        num_of_time_points = timelength/ 2**i\n",
    "        score= num_hits/float(num_of_time_points)\n",
    "        cumscore+= score\n",
    "        print i, num_hits, num_hits/float(num_of_time_points), cumscore/float(i+1)\n",
    "        \n",
    "\n",
    "# Neem de avg probability  zolang er nog steeds 2 hits (buckets) over zijn.   \n",
    "\n",
    "# nog niet helemaal jofel. Geeft geen resultaten met een hitlijst van minder dan 3 elementen\n",
    "def dispersion_score2_print (hits,timelength):\n",
    "    cumscore=0\n",
    "    i=0\n",
    "    num_hits=len(set(hits))\n",
    "    while num_hits > 2:\n",
    "        i_th_chopped_time= hits/2**i\n",
    "        num_hits= len(set(i_th_chopped_time))\n",
    "        num_of_time_points = timelength/ 2**i\n",
    "        score= num_hits/float(num_of_time_points)\n",
    "        cumscore+= score\n",
    "        print i, num_hits, num_hits/float(num_of_time_points), cumscore/float(i+1)\n",
    "        i+=1 "
   ]
  },
  {
   "cell_type": "code",
   "execution_count": 105,
   "metadata": {
    "collapsed": false
   },
   "outputs": [
    {
     "data": {
      "text/plain": [
       "49"
      ]
     },
     "execution_count": 105,
     "metadata": {},
     "output_type": "execute_result"
    }
   ],
   "source": [
    "test= np.array(list(set(np.random.randint(0,1024,size=50))))\n",
    "test.sort()\n",
    "len(test)"
   ]
  },
  {
   "cell_type": "code",
   "execution_count": 119,
   "metadata": {
    "collapsed": false
   },
   "outputs": [
    {
     "name": "stdout",
     "output_type": "stream",
     "text": [
      "0 49 0.0478515625 0.0478515625\n",
      "1 49 0.095703125 0.07177734375\n",
      "2 49 0.19140625 0.111653645833\n",
      "3 44 0.34375 0.169677734375\n",
      "4 38 0.59375 0.2544921875\n",
      "5 25 0.78125 0.34228515625\n",
      "6 16 1.0 0.436244419643\n",
      "7 8 1.0 0.506713867188\n",
      "8 4 1.0 0.5615234375\n",
      "9 2 1.0 0.60537109375\n",
      "10 1 1.0 0.641246448864\n"
     ]
    }
   ],
   "source": [
    "dispersion_score2_print(test,1024)"
   ]
  },
  {
   "cell_type": "code",
   "execution_count": 126,
   "metadata": {
    "collapsed": false
   },
   "outputs": [
    {
     "name": "stdout",
     "output_type": "stream",
     "text": [
      "0 3 0.0029296875 0.0029296875\n",
      "1 2 0.00390625 0.00341796875\n"
     ]
    }
   ],
   "source": [
    "dispersion_score2_print(np.array([0,1,200]),1024)"
   ]
  },
  {
   "cell_type": "code",
   "execution_count": null,
   "metadata": {
    "collapsed": true
   },
   "outputs": [],
   "source": []
  }
 ],
 "metadata": {
  "kernelspec": {
   "display_name": "Python 2",
   "language": "python",
   "name": "python2"
  },
  "language_info": {
   "codemirror_mode": {
    "name": "ipython",
    "version": 2
   },
   "file_extension": ".py",
   "mimetype": "text/x-python",
   "name": "python",
   "nbconvert_exporter": "python",
   "pygments_lexer": "ipython2",
   "version": "2.7.10"
  }
 },
 "nbformat": 4,
 "nbformat_minor": 0
}
